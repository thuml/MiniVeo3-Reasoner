{
 "cells": [
  {
   "cell_type": "code",
   "execution_count": 1,
   "metadata": {},
   "outputs": [
    {
     "name": "stdout",
     "output_type": "stream",
     "text": [
      "['test-g3-n5-a_dfs-h84385', 'demo_small-g3-n100-a_dfs-h4278', 'demo-g6-n10K-a_dfs-h8186']\n"
     ]
    }
   ],
   "source": [
    "# other package imports\n",
    "import matplotlib.pyplot as plt  # keep this import for CI to work\n",
    "from zanj import ZANJ  # saving/loading data\n",
    "\n",
    "# maze_dataset imports\n",
    "from maze_dataset import MazeDataset, MazeDatasetConfig\n",
    "from maze_dataset.dataset.configs import MAZE_DATASET_CONFIGS\n",
    "from maze_dataset.generation import LatticeMazeGenerators\n",
    "from maze_dataset.plotting import MazePlot\n",
    "\n",
    "# check the configs\n",
    "print(MAZE_DATASET_CONFIGS.keys())\n",
    "# for saving/loading things\n",
    "LOCAL_DATA_PATH: str = \"../data/maze_dataset/\"\n",
    "zanj: ZANJ = ZANJ(external_list_threshold=256)"
   ]
  },
  {
   "cell_type": "code",
   "execution_count": 2,
   "metadata": {},
   "outputs": [],
   "source": [
    "# magic autoreload\n",
    "%load_ext autoreload\n",
    "%autoreload 2"
   ]
  },
  {
   "cell_type": "code",
   "execution_count": 3,
   "metadata": {},
   "outputs": [
    {
     "name": "stdout",
     "output_type": "stream",
     "text": [
      "test-g5-n4-a_dfs-h45604\n"
     ]
    }
   ],
   "source": [
    "cfg: MazeDatasetConfig = MazeDatasetConfig(\n",
    "\tname=\"test\",  # name is only for you to keep track of things\n",
    "\tgrid_n=5,  # number of rows/columns in the lattice\n",
    "\tn_mazes=4,  # number of mazes to generate\n",
    "\tmaze_ctor=LatticeMazeGenerators.gen_dfs,  # algorithm to generate the maze\n",
    ")\n",
    "\n",
    "# each config will use this function to get the name of the dataset\n",
    "# it contains some basic info about the algorithm, size, and number of mazes\n",
    "# at the end after \"h\" is a stable hash of the config to avoid collisions\n",
    "print(cfg.to_fname())"
   ]
  },
  {
   "cell_type": "code",
   "execution_count": 4,
   "metadata": {},
   "outputs": [],
   "source": [
    "data = MazeDataset.from_config(cfg)\n",
    "maze = data[0]"
   ]
  },
  {
   "cell_type": "code",
   "execution_count": 5,
   "metadata": {},
   "outputs": [
    {
     "name": "stdout",
     "output_type": "stream",
     "text": [
      "###########\n",
      "#    XXX# #\n",
      "# ###X#X# #\n",
      "#   #X#S  #\n",
      "#####X#####\n",
      "#XXXXX#EXX#\n",
      "#X### ###X#\n",
      "#X#     #X#\n",
      "#X#######X#\n",
      "#XXXXXXXXX#\n",
      "###########\n"
     ]
    },
    {
     "data": {
      "text/plain": [
       "<matplotlib.image.AxesImage at 0x75357d1de540>"
      ]
     },
     "execution_count": 5,
     "metadata": {},
     "output_type": "execute_result"
    },
    {
     "data": {
      "image/png": "[encoded data removed]",
      "text/plain": [
       "<Figure size 640x480 with 1 Axes>"
      ]
     },
     "metadata": {},
     "output_type": "display_data"
    }
   ],
   "source": [
    "print(maze.as_ascii())\n",
    "plt.imshow(maze.as_pixels())"
   ]
  },
  {
   "cell_type": "code",
   "execution_count": 6,
   "metadata": {},
   "outputs": [
    {
     "name": "stdout",
     "output_type": "stream",
     "text": [
      "{'fork_idxs': [0, 2, 4], 'fork_coords': [[1, 3], [0, 2], [2, 2]], 'follow_idxs': array([ 1,  3,  5,  6,  7,  8,  9, 10, 11, 12, 13, 14, 15]), 'follow_coords': [[0, 3], [1, 2], [2, 1], [2, 0], [3, 0], [4, 0], [4, 1], [4, 2], [4, 3], [4, 4], [3, 4], [2, 4], [2, 3]]}\n"
     ]
    }
   ],
   "source": [
    "fork_idxs, fork_coords = maze.get_solution_forking_points()\n",
    "follow_idxs, follow_coords = maze.get_solution_path_following_points()\n",
    "\n",
    "print(\n",
    "\tdict(\n",
    "\t\tfork_idxs=fork_idxs,\n",
    "\t\tfork_coords=fork_coords.tolist(),\n",
    "\t\tfollow_idxs=follow_idxs,\n",
    "\t\tfollow_coords=follow_coords.tolist(),\n",
    "\t),\n",
    ")"
   ]
  },
  {
   "cell_type": "code",
   "execution_count": 7,
   "metadata": {},
   "outputs": [
    {
     "name": "stdout",
     "output_type": "stream",
     "text": [
      "[(array([1, 3]), {'marker': 's', 'color': 'green'}), (array([0, 2]), {'marker': 's', 'color': 'green'}), (array([2, 2]), {'marker': 's', 'color': 'green'}), (array([0, 3]), {'marker': '+', 'color': 'blue'}), (array([1, 2]), {'marker': '+', 'color': 'blue'}), (array([2, 1]), {'marker': '+', 'color': 'blue'}), (array([2, 0]), {'marker': '+', 'color': 'blue'}), (array([3, 0]), {'marker': '+', 'color': 'blue'}), (array([4, 0]), {'marker': '+', 'color': 'blue'}), (array([4, 1]), {'marker': '+', 'color': 'blue'}), (array([4, 2]), {'marker': '+', 'color': 'blue'}), (array([4, 3]), {'marker': '+', 'color': 'blue'}), (array([4, 4]), {'marker': '+', 'color': 'blue'}), (array([3, 4]), {'marker': '+', 'color': 'blue'}), (array([2, 4]), {'marker': '+', 'color': 'blue'}), (array([2, 3]), {'marker': '+', 'color': 'blue'})]\n"
     ]
    },
    {
     "data": {
      "text/plain": [
       "<maze_dataset.plotting.plot_maze.MazePlot at 0x75346f716630>"
      ]
     },
     "execution_count": 7,
     "metadata": {},
     "output_type": "execute_result"
    },
    {
     "data": {
      "image/png": "[encoded data removed]",
      "text/plain": [
       "<Figure size 640x480 with 1 Axes>"
      ]
     },
     "metadata": {},
     "output_type": "display_data"
    }
   ],
   "source": [
    "mp: MazePlot = MazePlot(maze)\n",
    "mp.mark_coords(fork_coords, color=\"green\", marker=\"s\")\n",
    "mp.mark_coords(follow_coords)\n",
    "print(mp.marked_coords)\n",
    "mp.plot()"
   ]
  }
 ],
 "metadata": {
  "kernelspec": {
   "display_name": ".venv",
   "language": "python",
   "name": "python3"
  },
  "language_info": {
   "codemirror_mode": {
    "name": "ipython",
    "version": 3
   },
   "file_extension": ".py",
   "mimetype": "text/x-python",
   "name": "python",
   "nbconvert_exporter": "python",
   "pygments_lexer": "ipython3",
   "version": "3.12.7"
  },
  "orig_nbformat": 4
 },
 "nbformat": 4,
 "nbformat_minor": 2
}
