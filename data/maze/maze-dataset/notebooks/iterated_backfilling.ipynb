{
 "cells": [
  {
   "cell_type": "code",
   "execution_count": 1,
   "metadata": {},
   "outputs": [],
   "source": [
    "import matplotlib.pyplot as plt\n",
    "import numpy as np\n",
    "\n",
    "from maze_dataset import (\n",
    "\tCoordTup,\n",
    "\tLatticeMazeGenerators,\n",
    "\tMazeDataset,\n",
    "\tMazeDatasetConfig,\n",
    ")\n",
    "from maze_dataset.maze import TargetedLatticeMaze\n",
    "from maze_dataset.maze.lattice_maze import _remove_isolated_cells"
   ]
  },
  {
   "cell_type": "code",
   "execution_count": 2,
   "metadata": {},
   "outputs": [],
   "source": [
    "def iterated_backfilling(maze: TargetedLatticeMaze) -> TargetedLatticeMaze:\n",
    "\t\"\"\"Perform iterated backfilling on a TargetedLatticeMaze object.\n",
    "\n",
    "\tThis algorithm iteratively removes dead ends (nodes with only one neighbor)\n",
    "\tthat are not the start or target nodes until no more such nodes exist.\n",
    "\n",
    "\tArgs:\n",
    "\tmaze (TargetedLatticeMaze): The input maze to perform backfilling on.\n",
    "\n",
    "\tReturns:\n",
    "\tTargetedLatticeMaze: A new TargetedLatticeMaze object with dead ends removed.\n",
    "\n",
    "\t\"\"\"\n",
    "\t# Create a copy of the connection list to modify\n",
    "\tnew_connection_list = maze.connection_list.copy()\n",
    "\n",
    "\t# Create a temporary TargetedLatticeMaze object for using its methods\n",
    "\ttemp_maze = TargetedLatticeMaze(\n",
    "\t\tconnection_list=new_connection_list,\n",
    "\t\tstart_pos=maze.start_pos,\n",
    "\t\tend_pos=maze.end_pos,\n",
    "\t)\n",
    "\n",
    "\tchanged = True\n",
    "\twhile changed:\n",
    "\t\tchanged = False\n",
    "\t\tfor i in range(maze.grid_shape[0]):\n",
    "\t\t\tfor j in range(maze.grid_shape[1]):\n",
    "\t\t\t\tpos = (i, j)\n",
    "\t\t\t\tif _should_remove_node(temp_maze, pos):\n",
    "\t\t\t\t\t_remove_node(new_connection_list, pos)\n",
    "\t\t\t\t\tchanged = True\n",
    "\n",
    "\t\t# Update the temporary maze with the new connection list\n",
    "\t\ttemp_maze = TargetedLatticeMaze(\n",
    "\t\t\tconnection_list=new_connection_list,\n",
    "\t\t\tstart_pos=maze.start_pos,\n",
    "\t\t\tend_pos=maze.end_pos,\n",
    "\t\t)\n",
    "\n",
    "\treturn TargetedLatticeMaze(\n",
    "\t\tconnection_list=new_connection_list,\n",
    "\t\tstart_pos=maze.start_pos,\n",
    "\t\tend_pos=maze.end_pos,\n",
    "\t)\n",
    "\n",
    "\n",
    "def _should_remove_node(maze: TargetedLatticeMaze, pos: CoordTup) -> bool:\n",
    "\t\"\"\"Check if a node should be removed.\"\"\"\n",
    "\tif pos == tuple(maze.start_pos) or pos == tuple(maze.end_pos):\n",
    "\t\treturn False\n",
    "\n",
    "\tneighbors = maze.get_coord_neighbors(np.array(pos))\n",
    "\treturn len(neighbors) == 1\n",
    "\n",
    "\n",
    "def _remove_node(connection_list: np.ndarray, pos: CoordTup) -> None:\n",
    "\t\"\"\"Remove a node by disconnecting all its connections.\"\"\"\n",
    "\ti, j = pos\n",
    "\n",
    "\t# Remove up connection\n",
    "\tif i > 0:\n",
    "\t\tconnection_list[0, i - 1, j] = False\n",
    "\t# Remove down connection\n",
    "\tif i < connection_list.shape[1] - 1:\n",
    "\t\tconnection_list[0, i, j] = False\n",
    "\t# Remove left connection\n",
    "\tif j > 0:\n",
    "\t\tconnection_list[1, i, j - 1] = False\n",
    "\t# Remove right connection\n",
    "\tif j < connection_list.shape[2] - 1:\n",
    "\t\tconnection_list[1, i, j] = False"
   ]
  },
  {
   "cell_type": "code",
   "execution_count": 3,
   "metadata": {},
   "outputs": [],
   "source": [
    "cfg: MazeDatasetConfig = MazeDatasetConfig(\n",
    "\tname=\"test\",  # name is only for you to keep track of things\n",
    "\tgrid_n=10,  # number of rows/columns in the lattice\n",
    "\tn_mazes=4,  # number of mazes to generate\n",
    "\tmaze_ctor=LatticeMazeGenerators.gen_dfs_percolation,  # algorithm to generate the maze\n",
    "\tmaze_ctor_kwargs={\"p\": 0.01},  # keyword arguments to pass to the maze\n",
    ")\n",
    "\n",
    "# to create a dataset, just call MazeDataset.from_config\n",
    "dataset: MazeDataset = MazeDataset.from_config(cfg)"
   ]
  },
  {
   "cell_type": "code",
   "execution_count": 4,
   "metadata": {},
   "outputs": [
    {
     "data": {
      "text/plain": [
       "<matplotlib.image.AxesImage at 0x7b9c53023380>"
      ]
     },
     "execution_count": 4,
     "metadata": {},
     "output_type": "execute_result"
    },
    {
     "data": {
      "image/png": "[encoded data removed]",
      "text/plain": [
       "<Figure size 640x480 with 1 Axes>"
      ]
     },
     "metadata": {},
     "output_type": "display_data"
    }
   ],
   "source": [
    "maze = dataset[0]\n",
    "plt.imshow(maze.as_pixels())"
   ]
  },
  {
   "cell_type": "code",
   "execution_count": 5,
   "metadata": {},
   "outputs": [
    {
     "data": {
      "text/plain": [
       "<matplotlib.image.AxesImage at 0x7b9c52eabb30>"
      ]
     },
     "execution_count": 5,
     "metadata": {},
     "output_type": "execute_result"
    },
    {
     "data": {
      "image/png": "[encoded data removed]",
      "text/plain": [
       "<Figure size 640x480 with 1 Axes>"
      ]
     },
     "metadata": {},
     "output_type": "display_data"
    }
   ],
   "source": [
    "maze_bf = iterated_backfilling(maze)\n",
    "\n",
    "\n",
    "plt.imshow(_remove_isolated_cells(maze_bf.as_pixels()))"
   ]
  }
 ],
 "metadata": {
  "kernelspec": {
   "display_name": ".venv",
   "language": "python",
   "name": "python3"
  },
  "language_info": {
   "codemirror_mode": {
    "name": "ipython",
    "version": 3
   },
   "file_extension": ".py",
   "mimetype": "text/x-python",
   "name": "python",
   "nbconvert_exporter": "python",
   "pygments_lexer": "ipython3",
   "version": "3.12.7"
  },
  "orig_nbformat": 4
 },
 "nbformat": 4,
 "nbformat_minor": 2
}
